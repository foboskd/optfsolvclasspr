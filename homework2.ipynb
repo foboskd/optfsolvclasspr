{
 "cells": [
  {
   "cell_type": "markdown",
   "id": "447b06e1",
   "metadata": {},
   "source": [
    "# Домашнее задание 2\n",
    "# «Функции потерь и оптимизация»"
   ]
  },
  {
   "cell_type": "markdown",
   "id": "886f0ad7",
   "metadata": {},
   "source": [
    "## Импорт датасета с Ирисами и его обработка"
   ]
  },
  {
   "cell_type": "markdown",
   "id": "6b8af10a",
   "metadata": {},
   "source": [
    "_Произведем загрузку датасета из библиотеки sklearn для чего импортируем ее в проект, а затем воспользуемся функцией load_iris()_"
   ]
  },
  {
   "cell_type": "code",
   "execution_count": 2,
   "id": "b46e645c",
   "metadata": {},
   "outputs": [],
   "source": [
    "#импортируем библиотеку sklearn\n",
    "import sklearn\n",
    "#для работы с датафреймами\n",
    "import pandas as pd"
   ]
  },
  {
   "cell_type": "code",
   "execution_count": 3,
   "id": "3baf206e",
   "metadata": {},
   "outputs": [],
   "source": [
    "#из библеотеки импортируем датасет ирисов\n",
    "from sklearn.datasets import load_iris"
   ]
  },
  {
   "cell_type": "code",
   "execution_count": 4,
   "id": "81158d1b",
   "metadata": {},
   "outputs": [],
   "source": [
    "#загрузка датасета\n",
    "iris = load_iris()\n",
    "\n",
    "#print(iris.target)\n",
    "#преобразование в DataFrame для удобства работы с данными, ниже строка выполняет задачу по созданию датафрейма и заполнению его данными из полученного датасета (iris.data), а также добавляет наименования столбцов (iris.feature_names)\n",
    "df_iris = pd.DataFrame(data=iris.data, columns=iris.feature_names)\n",
    "\n",
    "#добавим также столбец target, который обеспечит возможность отследить принадлежность определенного наблюдения к определенному классу\n",
    "df_iris['target'] = iris.target"
   ]
  },
  {
   "cell_type": "code",
   "execution_count": 5,
   "id": "8774980d",
   "metadata": {},
   "outputs": [
    {
     "name": "stdout",
     "output_type": "stream",
     "text": [
      "     sepal length (cm)  sepal width (cm)  petal length (cm)  petal width (cm)  \\\n",
      "0                  5.1               3.5                1.4               0.2   \n",
      "1                  4.9               3.0                1.4               0.2   \n",
      "2                  4.7               3.2                1.3               0.2   \n",
      "3                  4.6               3.1                1.5               0.2   \n",
      "4                  5.0               3.6                1.4               0.2   \n",
      "..                 ...               ...                ...               ...   \n",
      "145                6.7               3.0                5.2               2.3   \n",
      "146                6.3               2.5                5.0               1.9   \n",
      "147                6.5               3.0                5.2               2.0   \n",
      "148                6.2               3.4                5.4               2.3   \n",
      "149                5.9               3.0                5.1               1.8   \n",
      "\n",
      "     target  \n",
      "0         0  \n",
      "1         0  \n",
      "2         0  \n",
      "3         0  \n",
      "4         0  \n",
      "..      ...  \n",
      "145       2  \n",
      "146       2  \n",
      "147       2  \n",
      "148       2  \n",
      "149       2  \n",
      "\n",
      "[150 rows x 5 columns]\n"
     ]
    }
   ],
   "source": [
    "#выведем датафрейм для беглого ознакомления\n",
    "print(df_iris)"
   ]
  },
  {
   "cell_type": "markdown",
   "id": "3543da4f",
   "metadata": {},
   "source": [
    "_Произведем отбор классов согласно ДЗ, оставив только 2 класса: Iris Versicolor, Iris Virginica_"
   ]
  },
  {
   "cell_type": "code",
   "execution_count": 6,
   "id": "9f8b0d05",
   "metadata": {},
   "outputs": [],
   "source": [
    "#для чего сохраним результат фильтрации датафрейма df_iris в df_filt_iris используя метод .isin, который проверяет имеются ли в определенном столбце заданные из списка данные\n",
    "df_filt_iris = df_iris[df_iris['target'].isin([0, 1])]"
   ]
  },
  {
   "cell_type": "code",
   "execution_count": 13,
   "id": "410e45da",
   "metadata": {},
   "outputs": [
    {
     "name": "stdout",
     "output_type": "stream",
     "text": [
      "    sepal length (cm)  sepal width (cm)  petal length (cm)  petal width (cm)  \\\n",
      "0                 5.1               3.5                1.4               0.2   \n",
      "1                 4.9               3.0                1.4               0.2   \n",
      "2                 4.7               3.2                1.3               0.2   \n",
      "3                 4.6               3.1                1.5               0.2   \n",
      "4                 5.0               3.6                1.4               0.2   \n",
      "..                ...               ...                ...               ...   \n",
      "95                5.7               3.0                4.2               1.2   \n",
      "96                5.7               2.9                4.2               1.3   \n",
      "97                6.2               2.9                4.3               1.3   \n",
      "98                5.1               2.5                3.0               1.1   \n",
      "99                5.7               2.8                4.1               1.3   \n",
      "\n",
      "    target  \n",
      "0        0  \n",
      "1        0  \n",
      "2        0  \n",
      "3        0  \n",
      "4        0  \n",
      "..     ...  \n",
      "95       1  \n",
      "96       1  \n",
      "97       1  \n",
      "98       1  \n",
      "99       1  \n",
      "\n",
      "[100 rows x 5 columns]\n"
     ]
    }
   ],
   "source": [
    "#выведем датафрейм для беглого ознакомления\n",
    "print(df_filt_iris)"
   ]
  },
  {
   "cell_type": "markdown",
   "id": "e4706b5f",
   "metadata": {},
   "source": [
    "__Произведем нормировку признаков используя формулу линейной нормировки:__"
   ]
  },
  {
   "cell_type": "code",
   "execution_count": 14,
   "id": "6f91c5da",
   "metadata": {},
   "outputs": [
    {
     "name": "stdout",
     "output_type": "stream",
     "text": [
      "    sepal length (cm)  sepal width (cm)  petal length (cm)  petal width (cm)  \\\n",
      "0            0.296296          0.625000           0.097561          0.058824   \n",
      "1            0.222222          0.416667           0.097561          0.058824   \n",
      "2            0.148148          0.500000           0.073171          0.058824   \n",
      "3            0.111111          0.458333           0.121951          0.058824   \n",
      "4            0.259259          0.666667           0.097561          0.058824   \n",
      "..                ...               ...                ...               ...   \n",
      "95           0.518519          0.416667           0.780488          0.647059   \n",
      "96           0.518519          0.375000           0.780488          0.705882   \n",
      "97           0.703704          0.375000           0.804878          0.705882   \n",
      "98           0.296296          0.208333           0.487805          0.588235   \n",
      "99           0.518519          0.333333           0.756098          0.705882   \n",
      "\n",
      "    target  \n",
      "0        0  \n",
      "1        0  \n",
      "2        0  \n",
      "3        0  \n",
      "4        0  \n",
      "..     ...  \n",
      "95       1  \n",
      "96       1  \n",
      "97       1  \n",
      "98       1  \n",
      "99       1  \n",
      "\n",
      "[100 rows x 5 columns]\n"
     ]
    }
   ],
   "source": [
    "#cоздадим копию\n",
    "df_filt_iris_cop = df_filt_iris.copy()\n",
    "\n",
    "\n",
    "df_filt_iris_cop['sepal length (cm)'] = (df_filt_iris['sepal length (cm)'] - min(df_filt_iris['sepal length (cm)'])) / (max(df_filt_iris['sepal length (cm)']) - min(df_filt_iris['sepal length (cm)']))\n",
    "\n",
    "df_filt_iris_cop['sepal width (cm)'] = (df_filt_iris['sepal width (cm)'] - min(df_filt_iris['sepal width (cm)'])) / (max(df_filt_iris['sepal width (cm)']) - min(df_filt_iris['sepal width (cm)']))\n",
    "\n",
    "df_filt_iris_cop['petal length (cm)'] = (df_filt_iris['petal length (cm)'] - min(df_filt_iris['petal length (cm)'])) / (max(df_filt_iris['petal length (cm)']) - min(df_filt_iris['petal length (cm)']))\n",
    "\n",
    "df_filt_iris_cop['petal width (cm)'] = (df_filt_iris['petal width (cm)'] - min(df_filt_iris['petal width (cm)'])) / (max(df_filt_iris['petal width (cm)']) - min(df_filt_iris['petal width (cm)']))\n",
    "\n"
   ]
  },
  {
   "cell_type": "markdown",
   "id": "e195d7ea",
   "metadata": {},
   "source": [
    "__Произведем деление выборки, для чего воспроизведем следующий код:__"
   ]
  },
  {
   "cell_type": "code",
   "execution_count": 16,
   "id": "9e5bda1b",
   "metadata": {},
   "outputs": [],
   "source": [
    "#импортируем в проект заявленную функцию\n",
    "from sklearn.model_selection import train_test_split\n",
    "\n",
    "#извлечение признаков X (все столбцы, кроме 'income')\n",
    "X = df_filt_iris_cop.drop('target', axis=1)  # axis=1 указывает на столбцы\n",
    "#извлечение целевой переменной y (столбец 'income')\n",
    "y = df_filt_iris_cop['target']\n",
    "\n",
    "#далее воспользуемся заявленной функцией\n",
    "X_train, X_test, y_train, y_test = train_test_split(X, y, test_size=0.2, random_state=42)\n",
    "#где\n",
    "#X_train, X_test - обучающее и тестовое подмножества признаков\n",
    "#y_train, y_test - соответствующие им целевые переменные\n",
    "#test_size = 0.2 указывает, что 20% данных будет отведено под тестовое множество\n",
    "#random_state = 42 устанавливает начальное значение для генератора случайных чисел, что обеспечивает воспроизводимость разделения данных\n"
   ]
  },
  {
   "cell_type": "code",
   "execution_count": null,
   "id": "71c7ab87",
   "metadata": {},
   "outputs": [],
   "source": []
  },
  {
   "cell_type": "code",
   "execution_count": null,
   "id": "d7d9de7d",
   "metadata": {},
   "outputs": [],
   "source": []
  },
  {
   "cell_type": "markdown",
   "id": "f3a51630",
   "metadata": {},
   "source": [
    "## Реализация логистической регрессии"
   ]
  },
  {
   "cell_type": "markdown",
   "id": "0559808b",
   "metadata": {},
   "source": [
    "Итак, для дальнейшей работы дадим определение понятия логистическая регрессия. __Логистическая регрессия__ - это статистический метод, используемый для моделирования зависимости между независимыми переменными (признаками) и зависимой переменной, которая принимает бинарные значения (обычно 0 и 1). Она относится к классу обобщенных линейных моделей.\n",
    "\n",
    "Основная идея логистической регрессии заключается в том, чтобы применить логистическую функцию (также известную как сигмоидная функция) к линейной комбинации признаков. Это позволяет предсказывать вероятность принадлежности наблюдения к определенному классу.\n",
    "\n",
    "Процесс обучения логистической регрессии заключается в нахождении оптимальных значений параметров модели, которые минимизируют функцию потерь (обычно используется логарифмическая функция потерь). Для этого обычно применяются методы оптимизации, такие как градиентный спуск.\n",
    "\n",
    "Логистическая регрессия __широко используется в задачах классификации__, где требуется предсказать, к какому классу относится наблюдение на основе заданных признаков.\n",
    "\n",
    "__В данном ДЗ реализуем логистическую регрессию собственными силами не используя метода LogisticRegression:__"
   ]
  },
  {
   "cell_type": "code",
   "execution_count": 17,
   "id": "3fc6ac39",
   "metadata": {},
   "outputs": [],
   "source": [
    "import numpy as np"
   ]
  },
  {
   "cell_type": "code",
   "execution_count": 21,
   "id": "2c5611c9",
   "metadata": {},
   "outputs": [],
   "source": [
    "class LogisticRegression:\n",
    "    \n",
    "    def __init__(self, learn_rat=0.01, num_iter=1000):\n",
    "        self.learn_rat = learn_rat\n",
    "        self.num_iter = num_iter\n",
    "        self.weights = None\n",
    "        self.bias = None\n",
    "    \n",
    "    def sigmoid(self, z):\n",
    "        return 1 / (1 + np.exp(-z))\n",
    "    \n",
    "    def fit(self, X, y):\n",
    "        num_samples, num_features = X.shape\n",
    "        \n",
    "        \n",
    "        self.weights = np.zeros(num_features)\n",
    "        self.bias = 0\n",
    "        \n",
    "        #реализуем ниже метод градиентного спуска\n",
    "        for _ in range(self.num_iter):\n",
    "            \n",
    "            linear_model = np.dot(X, self.weights) + self.bias\n",
    "            y_predicted = self.sigmoid(linear_model)\n",
    "            \n",
    "            \n",
    "            dw = (1 / num_samples) * np.dot(X.T, (y_predicted - y))\n",
    "            db = (1 / num_samples) * np.sum(y_predicted - y)\n",
    "            \n",
    "            \n",
    "            self.weights -= self.learn_rat * dw\n",
    "            self.bias -= self.learn_rat * db\n",
    "    \n",
    "    def predict(self, X):\n",
    "        linear_model = np.dot(X, self.weights) + self.bias\n",
    "        y_predicted = self.sigmoid(linear_model)\n",
    "        y_predicted_cls = [1 if i > 0.5 else 0 for i in y_predicted]\n",
    "        return y_predicted_cls"
   ]
  },
  {
   "cell_type": "markdown",
   "id": "57db1b94",
   "metadata": {},
   "source": [
    "__Опишем написанный выше класс:__\n",
    "\n",
    "_Метод `__init__` является конструктором класса `LogisticRegression`; `learn_rat` величина, на которую умножаются градиенты для корректировки весов и смещения, `num_iter` колличество итераций градиентного спуска, то есть сколько раз будет обновляться вектор весов и смещения в процессе обучения._\n",
    "\n",
    "_Метод `sigmoid` по сути это реализация формулы сигмойды. Используется для преобразования линейного вывода модели в вероятность._\n",
    "\n",
    "_Метод `fit` выполняет обучение модели логистической регрессии на данных `X` и метках классов `y`._\n",
    "\n",
    "_Метод `predict` используется для предсказания меток классов на новых данных X после завершения обучения._"
   ]
  },
  {
   "cell_type": "markdown",
   "id": "dbe47bd2",
   "metadata": {},
   "source": [
    "__Инициализируем модель используя написанный выше класс:__"
   ]
  },
  {
   "cell_type": "code",
   "execution_count": 34,
   "id": "69154ae2",
   "metadata": {},
   "outputs": [],
   "source": [
    "model = LogisticRegression(learn_rat=0.1, num_iter=300)"
   ]
  },
  {
   "cell_type": "markdown",
   "id": "17974669",
   "metadata": {},
   "source": [
    "__Обучим модель используя метод `fit`:__"
   ]
  },
  {
   "cell_type": "code",
   "execution_count": 35,
   "id": "e14ee149",
   "metadata": {},
   "outputs": [],
   "source": [
    "model.fit(X_train, y_train)"
   ]
  },
  {
   "cell_type": "markdown",
   "id": "570f9413",
   "metadata": {},
   "source": [
    "__Используем метод `predict` для построения предсказания:__"
   ]
  },
  {
   "cell_type": "code",
   "execution_count": 36,
   "id": "ba04ebeb",
   "metadata": {},
   "outputs": [],
   "source": [
    "y_pred = model.predict(X_test)"
   ]
  },
  {
   "cell_type": "markdown",
   "id": "a3fb586f",
   "metadata": {},
   "source": [
    "__Проведем проверку точности исползуя `accuracy_score`:__"
   ]
  },
  {
   "cell_type": "code",
   "execution_count": 40,
   "id": "fbc67397",
   "metadata": {},
   "outputs": [
    {
     "name": "stdout",
     "output_type": "stream",
     "text": [
      "Точность предсказаний модели: 1.000\n"
     ]
    }
   ],
   "source": [
    "from sklearn.metrics import accuracy_score\n",
    "accuracy = accuracy_score(y_test, y_pred)\n",
    "\n",
    "print (f'Точность предсказаний модели: {accuracy:.3f}')"
   ]
  },
  {
   "cell_type": "markdown",
   "id": "ec9a4cc6",
   "metadata": {},
   "source": [
    "## Итоги работы"
   ]
  },
  {
   "cell_type": "markdown",
   "id": "edda1adb",
   "metadata": {},
   "source": [
    "_В рамках выполнения итоговой работы было выполненно следующее:_\n",
    "1. Прочтен предоставленный файл с датасетом, данные перемещены в датафрейм\n",
    "2. Произведем отбор классов согласно ДЗ, оставив только 2 класса: Iris Versicolor, Iris Virginica\n",
    "3. Произведена нормировка признаков\n",
    "4. Произведено деление выборки\n",
    "5. Реализована логистическая регрессия, написан самописный класс `LogisticRegression`\n",
    "6. Обучена модель\n",
    "7. Проведена проверка точности модели"
   ]
  },
  {
   "cell_type": "code",
   "execution_count": null,
   "id": "33322491",
   "metadata": {},
   "outputs": [],
   "source": []
  }
 ],
 "metadata": {
  "kernelspec": {
   "display_name": "Python 3 (ipykernel)",
   "language": "python",
   "name": "python3"
  },
  "language_info": {
   "codemirror_mode": {
    "name": "ipython",
    "version": 3
   },
   "file_extension": ".py",
   "mimetype": "text/x-python",
   "name": "python",
   "nbconvert_exporter": "python",
   "pygments_lexer": "ipython3",
   "version": "3.9.6"
  }
 },
 "nbformat": 4,
 "nbformat_minor": 5
}
